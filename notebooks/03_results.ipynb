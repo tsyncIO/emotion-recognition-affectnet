{
 "cells": [
  {
   "cell_type": "code",
   "execution_count": null,
   "metadata": {},
   "outputs": [],
   "source": [
    "# 03_results.ipynb\n",
    "\n",
    "# Import necessary libraries\n",
    "import torch\n",
    "import matplotlib.pyplot as plt\n",
    "import numpy as np\n",
    "from torchvision import transforms\n",
    "from PIL import Image\n",
    "\n",
    "# Load the trained model\n",
    "device = torch.device(\"cuda\" if torch.cuda.is_available() else \"cpu\")\n",
    "model = torch.load('alexnet_emotion_recognition.pth')\n",
    "model.to(device)\n",
    "model.eval()\n",
    "\n",
    "# Define a transformation for the input image\n",
    "transform = transforms.Compose([\n",
    "    transforms.Resize((224, 224)),\n",
    "    transforms.ToTensor(),\n",
    "    transforms.Normalize(mean=[0.485, 0.456, 0.406], std=[0.229, 0.224, 0.225]),\n",
    "])\n",
    "\n",
    "# Function to predict emotion from an image\n",
    "def predict_emotion(image_path):\n",
    "    img = Image.open(image_path)\n",
    "    img = transform(img).unsqueeze(0).to(device)\n",
    "\n",
    "    outputs = model(img)\n",
    "    _, predicted = torch.max(outputs, 1)\n",
    "    predicted_label = train_dataset.labels[predicted.item()]\n",
    "\n",
    "    return predicted_label\n",
    "\n",
    "# Test the model with an example image\n",
    "image_path = './path/to/your/test_image.jpg'\n",
    "predicted_emotion = predict_emotion(image_path)\n",
    "print(f\"Predicted Emotion: {predicted_emotion}\")\n"
   ]
  }
 ],
 "metadata": {
  "language_info": {
   "name": "python"
  }
 },
 "nbformat": 4,
 "nbformat_minor": 2
}
