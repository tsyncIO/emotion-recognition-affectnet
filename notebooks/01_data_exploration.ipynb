{
 "cells": [
  {
   "cell_type": "code",
   "execution_count": null,
   "metadata": {
    "vscode": {
     "languageId": "plaintext"
    }
   },
   "outputs": [],
   "source": [
    "# 01_data_exploration.ipynb\n",
    "\n",
    "# Import necessary libraries\n",
    "import os\n",
    "import matplotlib.pyplot as plt\n",
    "import pandas as pd\n",
    "from PIL import Image\n",
    "import numpy as np\n",
    "\n",
    "# Path to the dataset\n",
    "data_path = './data/raw/'\n",
    "\n",
    "# Check the number of images in each category\n",
    "labels = os.listdir(data_path)\n",
    "num_images = {label: len(os.listdir(os.path.join(data_path, label))) for label in labels}\n",
    "\n",
    "# Display the count of images for each emotion\n",
    "pd.DataFrame.from_dict(num_images, orient='index', columns=['Count']).plot(kind='bar', figsize=(10, 5))\n",
    "plt.title('Number of Images in Each Emotion Category')\n",
    "plt.ylabel('Number of Images')\n",
    "plt.show()\n",
    "\n",
    "# Display some sample images\n",
    "def show_sample_images(label, num_samples=5):\n",
    "    image_files = os.listdir(os.path.join(data_path, label))[:num_samples]\n",
    "    fig, axes = plt.subplots(1, num_samples, figsize=(15, 5))\n",
    "    for i, img_file in enumerate(image_files):\n",
    "        img = Image.open(os.path.join(data_path, label, img_file))\n",
    "        axes[i].imshow(np.array(img))\n",
    "        axes[i].axis('off')\n",
    "        axes[i].set_title(label)\n",
    "    plt.show()\n",
    "\n",
    "# Show some samples from the \"happy\" label\n",
    "show_sample_images('happy', num_samples=5)\n"
   ]
  }
 ],
 "metadata": {
  "language_info": {
   "name": "python"
  }
 },
 "nbformat": 4,
 "nbformat_minor": 2
}
